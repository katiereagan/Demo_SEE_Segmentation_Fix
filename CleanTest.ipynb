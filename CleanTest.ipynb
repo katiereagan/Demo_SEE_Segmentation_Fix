{
 "cells": [
  {
   "cell_type": "markdown",
   "id": "24e0427f-192c-4fd9-aacb-ed00a393bf39",
   "metadata": {},
   "source": [
    "# Testing the cleaner\n"
   ]
  },
  {
   "cell_type": "code",
   "execution_count": null,
   "id": "795c1b65-4a0f-40d7-b1e7-d1fa927fd2f2",
   "metadata": {
    "tags": []
   },
   "outputs": [],
   "source": [
    "from cleaner import cleaner,get_imagefiles"
   ]
  },
  {
   "cell_type": "code",
   "execution_count": null,
   "id": "52a7c5ab-b0f6-4170-8ff0-e34c44dd0561",
   "metadata": {
    "tags": []
   },
   "outputs": [],
   "source": [
    "files = list(get_imagefiles())"
   ]
  },
  {
   "cell_type": "code",
   "execution_count": null,
   "id": "bb0a3468-edf0-4e21-bbed-0a0a7e7a87b8",
   "metadata": {
    "tags": []
   },
   "outputs": [],
   "source": [
    "import matplotlib.pylab as plt\n",
    "from pathlib import Path\n",
    "\n",
    "\n",
    "outdir = Path(\"./20230722-Human_Segmentation/\")\n",
    "\n",
    "for imagefile,GTfile in files:\n",
    "    print(f\"Processing {GTfile}\")\n",
    "    output_image = cleaner(str(GTfile))\n",
    "    plt.imshow(output_image)\n",
    "    plt.show()\n",
    "    #cv2.imwrite(str(outdir / GTfile.name), output_image)"
   ]
  },
  {
   "cell_type": "code",
   "execution_count": null,
   "id": "be5d78ec-406c-47a4-b377-c19f397e4442",
   "metadata": {
    "tags": []
   },
   "outputs": [],
   "source": [
    "str(GTfile)"
   ]
  },
  {
   "cell_type": "code",
   "execution_count": null,
   "id": "2e4659ea-3ae0-4f8b-9736-45437e72748f",
   "metadata": {},
   "outputs": [],
   "source": []
  }
 ],
 "metadata": {
  "kernelspec": {
   "display_name": "Python 3 (ipykernel)",
   "language": "python",
   "name": "python3"
  },
  "language_info": {
   "codemirror_mode": {
    "name": "ipython",
    "version": 3
   },
   "file_extension": ".py",
   "mimetype": "text/x-python",
   "name": "python",
   "nbconvert_exporter": "python",
   "pygments_lexer": "ipython3",
   "version": "3.9.15"
  }
 },
 "nbformat": 4,
 "nbformat_minor": 5
}
