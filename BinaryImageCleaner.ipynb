{
 "cells": [
  {
   "cell_type": "code",
   "execution_count": null,
   "id": "55122a63",
   "metadata": {},
   "outputs": [],
   "source": [
    "# For two-color segmented images\n",
    "import numpy as np\n",
    "import cv2\n",
    "from collections import Counter\n",
    "\n",
    "input_image_path = input(\"Enter the pathway to your image: \")\n",
    "image = cv2.imread(input_image_path)\n",
    "mask_array = np.array(image)\n",
    "tuple_counts = Counter(tuple(row) for row in mask_array.reshape(-1, 3))\n",
    "hfreq_tuples = list(tpl[0] for tpl in tuple_counts.most_common(2))\n",
    "mask = ((image[:, :, 0] == hfreq_tuples[0][0]) & \n",
    "        (image[:, :, 1] == hfreq_tuples[0][1]) & \n",
    "        (image[:, :, 2] == hfreq_tuples[0][2]))\n",
    "output_image_path = input(\"Enter a new pathway to your updated image: \")\n",
    "updated_mask = cv2.imwrite(output_image_path, mask.astype(np.uint8) * 255)\n",
    "print(\"Done.\")"
   ]
  }
 ],
 "metadata": {
  "kernelspec": {
   "display_name": "Python 3 (ipykernel)",
   "language": "python",
   "name": "python3"
  },
  "language_info": {
   "codemirror_mode": {
    "name": "ipython",
    "version": 3
   },
   "file_extension": ".py",
   "mimetype": "text/x-python",
   "name": "python",
   "nbconvert_exporter": "python",
   "pygments_lexer": "ipython3",
   "version": "3.10.9"
  }
 },
 "nbformat": 4,
 "nbformat_minor": 5
}
