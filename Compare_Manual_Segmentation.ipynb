{
 "cells": [
  {
   "cell_type": "markdown",
   "id": "82ba5e0c-6588-4b30-9d82-022e81dc1bdd",
   "metadata": {},
   "source": [
    "# Function to compare manual segmentation\n",
    "\n",
    "This notebook goes through folders of manually segmented images and compares the results.  \n",
    "\n",
    "Currently the folders are set up like this:\n",
    "\n",
    "```\n",
    "20230722-Human_Segmentation\n",
    "    a_walk_in_the_park\n",
    "        Maryam_GT - Maryam Berijanian.png\n",
    "        a_walk_in_the_park copy_GT - Katie Reagan.jpg\n",
    "        a_walk_in_the_park_GT - Catalina Diaz.jpg\n",
    "        a_walk_in_the_park_GT - Dirk Colbry.png\n",
    "        a_walk_in_the_park_Nathan_Haut_GT - Nathaniel haut.jpg\n",
    "        a_walk_in_the_park_navya_GT - navya bhardwaj.jpg\n",
    "    Mushrooms_GT\n",
    "        Maryam_GT - Maryam Berijanian(1).png\n",
    "        Mushrooms_GT - Dirk Colbry.png\n",
    "        Mushrooms_GT - Katie Reagan.jpeg\n",
    "        Mushrooms_Nathan_Haut_GT - Nathaniel haut.jpeg\n",
    "        Mushrooms_navya_GT - navya bhardwaj.jpeg\n",
    "    Waterbottle\n",
    "        Maryam_GT - Maryam Berijanian(2).png\n",
    "        Maryam_GT - Maryam Berijanian(3).png\n",
    "        Waterbottle copy_GT - Katie Reagan.png\n",
    "        Waterbottle_GT - Dirk Colbry.png\n",
    "        Waterbottle_Nathan_Haut_GT - Nathaniel haut.jpg\n",
    "        Waterbottle_navya_GT - navya bhardwaj.jpg\n",
    "        catalina_GT - Catalina Diaz.jpg\n",
    "```\n",
    "\n",
    "I also copied in the masks from the see-segment folder and deleted on of the masks that included the original RGB image as background."
   ]
  },
  {
   "cell_type": "code",
   "execution_count": null,
   "id": "146557e9-feb9-4ddb-8829-8aab50db64d7",
   "metadata": {},
   "outputs": [],
   "source": [
    "# Add path to the see folder in see-segment\n",
    "\n",
    "import sys\n",
    "sys.path.append('../see-segment/')"
   ]
  },
  {
   "cell_type": "code",
   "execution_count": null,
   "id": "c8cf67da-621b-4583-892b-45715a7a014d",
   "metadata": {},
   "outputs": [],
   "source": [
    "import see"
   ]
  },
  {
   "cell_type": "markdown",
   "id": "283dccf1-4b3e-4b56-ad81-2b88fee62148",
   "metadata": {},
   "source": [
    "# Path to the folder of manually selected images\n",
    "\n",
    "I named mine 20230722-Human_Segmentation "
   ]
  },
  {
   "cell_type": "code",
   "execution_count": null,
   "id": "634dcba6-3ea8-495b-a9ab-e0d8511cddcb",
   "metadata": {},
   "outputs": [],
   "source": [
    "# Modified from code by navya\n",
    "import pathlib\n",
    "imagepath = pathlib.Path('20230722-Human_Segmentation/')\n",
    "GTS = imagepath.glob('*')\n",
    "image_folders = list(GTS)\n",
    "image_folders"
   ]
  },
  {
   "cell_type": "markdown",
   "id": "5fbfccd9-57af-4081-a3b7-b9d828b290fa",
   "metadata": {
    "tags": []
   },
   "source": [
    "# Load two images and compare them\n",
    "This example uses images that start with Mush"
   ]
  },
  {
   "cell_type": "code",
   "execution_count": null,
   "id": "c1ff9886-ed01-4118-8127-1d3121a808b0",
   "metadata": {},
   "outputs": [],
   "source": [
    "from cleaner import cleaner"
   ]
  },
  {
   "cell_type": "code",
   "execution_count": null,
   "id": "14307eee-c888-432d-8b12-649fa108d1d5",
   "metadata": {},
   "outputs": [],
   "source": [
    "import imageio.v3 as Image\n",
    "imagepath = image_folders[0]\n",
    "print(f' Testing images from {imagepath.name}')\n",
    "myset = list(imagepath.glob('*'))\n",
    "print(myset[0])\n",
    "print(myset[1])"
   ]
  },
  {
   "cell_type": "code",
   "execution_count": null,
   "id": "1ba7e9a6-ab13-428b-aeea-c4e89177eb4e",
   "metadata": {},
   "outputs": [],
   "source": [
    "im1 = Image.imread(myset[0])\n"
   ]
  },
  {
   "cell_type": "code",
   "execution_count": null,
   "id": "43e2d02b-0979-4f24-9dce-d0bf83738398",
   "metadata": {},
   "outputs": [],
   "source": [
    "mask1 = im1[:,:,0]\n",
    "clean_mask1 = mask1 > 127"
   ]
  },
  {
   "cell_type": "code",
   "execution_count": null,
   "id": "6b8d5e31-39d7-4b22-9217-8902b0b8cb08",
   "metadata": {},
   "outputs": [],
   "source": [
    "im2 = Image.imread(myset[1])\n",
    "mask2 = im2[:,:,0]\n",
    "clean_mask2 = mask2 > 127"
   ]
  },
  {
   "cell_type": "code",
   "execution_count": null,
   "id": "f9e3153f-5bc0-4b8a-8c86-9ddd9b4fd18f",
   "metadata": {},
   "outputs": [],
   "source": [
    "import matplotlib.pylab as plt\n",
    "\n",
    "plt.imshow(im1)"
   ]
  },
  {
   "cell_type": "code",
   "execution_count": null,
   "id": "c85187bd-c509-45b5-b9f1-15ce50c53bd4",
   "metadata": {},
   "outputs": [],
   "source": [
    "plt.imshow(im2)"
   ]
  },
  {
   "cell_type": "markdown",
   "id": "a5c595c0-e631-42ac-bb61-6bb1975f8e0f",
   "metadata": {},
   "source": [
    "# Now run fitness function"
   ]
  },
  {
   "cell_type": "code",
   "execution_count": null,
   "id": "8b8f3cbd-6326-42d4-93fa-54d1bf9baa8e",
   "metadata": {},
   "outputs": [],
   "source": [
    "import see.Segment_Fitness as Fitness"
   ]
  },
  {
   "cell_type": "code",
   "execution_count": null,
   "id": "5322e1fe-1542-4434-8756-a7f3756a11bd",
   "metadata": {},
   "outputs": [],
   "source": [
    "output = Fitness.FitnessFunction(mask1,mask2)"
   ]
  },
  {
   "cell_type": "code",
   "execution_count": null,
   "id": "082d96af-4f64-4fe5-b16f-f4cf51b51b32",
   "metadata": {},
   "outputs": [],
   "source": [
    "output"
   ]
  },
  {
   "cell_type": "code",
   "execution_count": null,
   "id": "5d9a4487-79da-4549-8e57-7574d0d508c4",
   "metadata": {},
   "outputs": [],
   "source": [
    "output[0]"
   ]
  },
  {
   "cell_type": "code",
   "execution_count": null,
   "id": "c8090a68-8530-4e8c-841a-0f0bf270d5be",
   "metadata": {},
   "outputs": [],
   "source": [
    "clean_output = Fitness.FitnessFunction(clean_mask1,clean_mask2)\n",
    "clean_output[0]"
   ]
  },
  {
   "cell_type": "markdown",
   "id": "cbd8b039-ae05-4e0d-93d2-3480ad400b70",
   "metadata": {},
   "source": [
    "# Loop and Load/Clean up the images"
   ]
  },
  {
   "cell_type": "code",
   "execution_count": null,
   "id": "0aad2b3a-eb21-4911-885f-9f1f2c49ef53",
   "metadata": {},
   "outputs": [],
   "source": [
    "all_orig_images = dict()\n",
    "all_orig_masks = dict()\n",
    "all_clean_masks = dict()\n",
    "all_names = dict()\n",
    "\n",
    "for f, folder in enumerate(image_folders):\n",
    "    images = list(folder.glob('*g'))\n",
    "    names = []\n",
    "    orig_images = dict()\n",
    "    orig_masks = dict()\n",
    "    clean_masks = dict()\n",
    "    for i, im_file in enumerate(images):\n",
    "        im = Image.imread(im_file)\n",
    "        myname = im_file.name\n",
    "        names.append(myname)\n",
    "        if len(im.shape) > 2:\n",
    "            mask = im[:,:,0]\n",
    "        else:\n",
    "            mask = im\n",
    "        clean_mask = mask > im.max()/2 #Magic Cleaning code\n",
    "        orig_images[myname] = im\n",
    "        orig_masks[myname] = mask\n",
    "        clean_masks[myname] = clean_mask\n",
    "    all_names[folder.name] = names\n",
    "    all_orig_images[folder.name] = orig_images\n",
    "    all_orig_masks[folder.name] = orig_masks\n",
    "    all_clean_masks[folder.name] = clean_masks"
   ]
  },
  {
   "cell_type": "code",
   "execution_count": null,
   "id": "304913a1-0466-4861-a173-81e2974799b7",
   "metadata": {},
   "outputs": [],
   "source": [
    "all_names"
   ]
  },
  {
   "cell_type": "markdown",
   "id": "0c834361-b393-4325-a513-eaba413481e1",
   "metadata": {
    "tags": []
   },
   "source": [
    "# This code is a bit slow but works. Generates tables of before and after cleaning"
   ]
  },
  {
   "cell_type": "code",
   "execution_count": null,
   "id": "b1316cbc-fe87-428a-848c-20697952f8f4",
   "metadata": {},
   "outputs": [],
   "source": [
    "import numpy as np\n",
    "\n",
    "result_tables = dict()\n",
    "clean_result_tables = dict()\n",
    "\n",
    "for folder in all_names:\n",
    "    print(folder)\n",
    "    values = np.zeros([len(all_names[folder]), len(all_names[folder])])\n",
    "    clean_values = np.zeros([len(all_names[folder]), len(all_names[folder])])\n",
    "    for i,name1 in enumerate(all_names[folder]):\n",
    "        print(f'--{name1}')\n",
    "        for j,name2 in enumerate(all_names[folder]):\n",
    "            mask1 = all_orig_masks[folder][name1]\n",
    "            mask2 = all_orig_masks[folder][name2]\n",
    "            out = Fitness.FitnessFunction(mask1,mask2)\n",
    "            values[i,j] = out[0]\n",
    "            \n",
    "            clean_mask1 = all_clean_masks[folder][name1]\n",
    "            clean_mask2 = all_clean_masks[folder][name2]\n",
    "            clean_out = Fitness.FitnessFunction(clean_mask1,clean_mask2)\n",
    "            clean_values[i,j] = clean_out[0]\n",
    "            \n",
    "    result_tables[folder] = values\n",
    "    clean_result_tables[folder] = clean_values    \n",
    "    all_names[folder] = names"
   ]
  },
  {
   "cell_type": "markdown",
   "id": "423ee7cd-2b1f-4fe0-a2b4-f77ce7eb8de1",
   "metadata": {},
   "source": [
    "# Look at the results"
   ]
  },
  {
   "cell_type": "code",
   "execution_count": null,
   "id": "b0460967-1d20-42a0-b734-e6a263281a88",
   "metadata": {},
   "outputs": [],
   "source": [
    "print(list(result_tables.keys()))"
   ]
  },
  {
   "cell_type": "code",
   "execution_count": null,
   "id": "d9233d77-50f5-4914-b3d1-718402454245",
   "metadata": {},
   "outputs": [],
   "source": [
    "key = 'a_walk_in_the_park'\n",
    "key = 'Waterbottle'\n",
    "#key = 'Mushrooms_GT'"
   ]
  },
  {
   "cell_type": "code",
   "execution_count": null,
   "id": "68ee74f9-a586-4ca4-9859-5afda1d9a487",
   "metadata": {},
   "outputs": [],
   "source": [
    "plt.imshow(result_tables[key])\n",
    "plt.xticks(ticks=range(len(all_names[key])), labels=all_names[key], rotation='vertical')\n",
    "plt.yticks(ticks=range(len(all_names[key])), labels=all_names[key])\n",
    "plt.title(f\"{key} Before Cleaning\")\n",
    "plt.colorbar()\n",
    "plt.savefig(f'{key}_before_cleaning.png')\n"
   ]
  },
  {
   "cell_type": "code",
   "execution_count": null,
   "id": "1e539b86-b455-4c6a-94c3-664a8cc71eac",
   "metadata": {},
   "outputs": [],
   "source": [
    "plt.imshow(clean_result_tables[key])\n",
    "plt.title(f\"{key} After Cleaning\")\n",
    "plt.xticks(ticks=range(len(all_names[key])), labels=all_names[key], rotation='vertical')\n",
    "plt.yticks(ticks=range(len(all_names[key])), labels=all_names[key])\n",
    "plt.colorbar()\n",
    "plt.savefig(f'{key}_after_cleaning.png')"
   ]
  },
  {
   "cell_type": "code",
   "execution_count": null,
   "id": "d92b2ced-c8aa-413c-a1f5-d3fabb9c1bbd",
   "metadata": {},
   "outputs": [],
   "source": [
    "clean_result_tables[key]"
   ]
  },
  {
   "cell_type": "code",
   "execution_count": null,
   "id": "410f88ff-d51f-410c-b880-37613fad8584",
   "metadata": {},
   "outputs": [],
   "source": [
    "indices = np.where(clean_result_tables[key].max())\n",
    "print(indices)"
   ]
  },
  {
   "cell_type": "code",
   "execution_count": null,
   "id": "c145cd14-424c-48a1-8f17-fe536d9b776b",
   "metadata": {},
   "outputs": [],
   "source": [
    "im_files = list(all_clean_masks[key].keys())\n",
    "im_files"
   ]
  },
  {
   "cell_type": "code",
   "execution_count": null,
   "id": "fc860ab6-aec8-4d2e-9ff1-b8fdfc794f15",
   "metadata": {},
   "outputs": [],
   "source": [
    "num=6\n",
    "print(im_files[num])\n",
    "plt.imshow(all_clean_masks[key][im_files[num]])"
   ]
  },
  {
   "cell_type": "markdown",
   "id": "a5da398c-6383-48ae-835b-14ab106ce27f",
   "metadata": {},
   "source": [
    "# Calculate Errors"
   ]
  },
  {
   "cell_type": "code",
   "execution_count": null,
   "id": "e0058cd6-576a-425c-9c34-745a2626e9f7",
   "metadata": {},
   "outputs": [],
   "source": [
    "# Original Average\n",
    "np.sum(result_tables[key])/ ((len(result_tables[key])-1)**2)"
   ]
  },
  {
   "cell_type": "code",
   "execution_count": null,
   "id": "b6f51938-69fd-4bd6-abd5-8072b6e1de9d",
   "metadata": {},
   "outputs": [],
   "source": [
    "# Clean Average\n",
    "np.sum(clean_result_tables[key])/ ((len(clean_result_tables[key])-1)**2)"
   ]
  },
  {
   "cell_type": "markdown",
   "id": "c9f03c0b-ec61-4ec1-a686-090d3a4aafee",
   "metadata": {},
   "source": [
    "# Calculate before and after for everything and plot as a bar graph"
   ]
  },
  {
   "cell_type": "code",
   "execution_count": null,
   "id": "bb5e8fd2-bfb8-43ab-942d-f824729e86db",
   "metadata": {},
   "outputs": [],
   "source": [
    "before_average = dict()\n",
    "after_average = dict()\n",
    "\n",
    "for key in result_tables:\n",
    "    size = (len(result_tables[key])-1)**2\n",
    "    before_average[key] = np.sum(result_tables[key])/size\n",
    "\n",
    "    after_average[key] = np.sum(clean_result_tables[key])/size"
   ]
  },
  {
   "cell_type": "code",
   "execution_count": null,
   "id": "f491bdb9-dc74-4eb3-b80a-5700e1274125",
   "metadata": {},
   "outputs": [],
   "source": [
    "before_average"
   ]
  },
  {
   "cell_type": "code",
   "execution_count": null,
   "id": "ecaee14a-07b7-4923-b146-eea53dd6c3ef",
   "metadata": {},
   "outputs": [],
   "source": [
    "after_average"
   ]
  },
  {
   "cell_type": "code",
   "execution_count": null,
   "id": "1197c44b-2006-465a-b173-93acbc8bae6f",
   "metadata": {},
   "outputs": [],
   "source": []
  },
  {
   "cell_type": "code",
   "execution_count": null,
   "id": "a49b611a-79d6-44d4-919f-3beb91b18841",
   "metadata": {},
   "outputs": [],
   "source": [
    "import numpy as np\n",
    "a = np.array([[1,2,3], [4,3,1]])  # Can be of any shape\n",
    "indices = np.where(a == a.max())"
   ]
  },
  {
   "cell_type": "code",
   "execution_count": null,
   "id": "5635bc26-e4c2-435a-bd4e-18fbe564fce9",
   "metadata": {},
   "outputs": [],
   "source": [
    "# set width of bar\n",
    "barWidth = 0.35\n",
    "#fig = plt.subplots(figsize =(12, 8))\n",
    "\n",
    "before = []\n",
    "after = []\n",
    "names = []\n",
    "\n",
    "for name in before_average:\n",
    "    before.append(before_average[name])\n",
    "    after.append(after_average[name])\n",
    "    names.append(name)\n",
    "\n",
    "# Set position of bar on X axis\n",
    "br1 = np.arange(len(before))\n",
    "br2 = [x + barWidth for x in br1]\n",
    " \n",
    "# Make the plot\n",
    "plt.bar(br1, before, color ='r', width = barWidth,\n",
    "        edgecolor ='grey', label ='Average Before Cleaning')\n",
    "plt.bar(br2, after, color ='g', width = barWidth,\n",
    "        edgecolor ='grey', label ='Average After Cleaning')\n",
    " \n",
    "# Adding Xticks\n",
    "plt.xlabel('Image', fontweight ='bold', fontsize = 15)\n",
    "plt.ylabel('Difference Error (fitness)', fontweight ='bold', fontsize = 15)\n",
    "plt.xticks([r + barWidth for r in range(len(br1))], names)\n",
    "\n",
    "plt.yscale(\"log\") \n",
    "\n",
    "plt.legend(loc='upper right')\n",
    "plt.savefig('before_after_averages.png')"
   ]
  },
  {
   "cell_type": "code",
   "execution_count": null,
   "id": "5513ca64-8aac-47a9-a4f4-b925daca261f",
   "metadata": {},
   "outputs": [],
   "source": []
  }
 ],
 "metadata": {
  "kernelspec": {
   "display_name": "Python 3 (ipykernel)",
   "language": "python",
   "name": "python3"
  },
  "language_info": {
   "codemirror_mode": {
    "name": "ipython",
    "version": 3
   },
   "file_extension": ".py",
   "mimetype": "text/x-python",
   "name": "python",
   "nbconvert_exporter": "python",
   "pygments_lexer": "ipython3",
   "version": "3.9.15"
  }
 },
 "nbformat": 4,
 "nbformat_minor": 5
}
