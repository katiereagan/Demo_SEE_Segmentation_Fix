{
 "cells": [
  {
   "cell_type": "markdown",
   "id": "d80c9853-48f9-4740-acf0-e57ffad4dedc",
   "metadata": {},
   "source": [
    "# Validate the Images and Ground truth images in Examples folder\n",
    "\n",
    "This notebook checks to ensure the image and it's cooresponding Ground Truth have the same number of rows and columns.  It also check the Ground Truthe to see if it has a relitivly small (< 5) labeled objects. It is possible to have more than 5 but that would be a special case. \n",
    "\n",
    "Someone needs to go threw all of the Examples and fix them. "
   ]
  },
  {
   "cell_type": "code",
   "execution_count": 5,
   "id": "3a4301ab-0705-42e1-b794-ab647c4eba65",
   "metadata": {
    "tags": []
   },
   "outputs": [],
   "source": [
    "# Modified from code by navya\n",
    "import pathlib\n",
    "imagepath = pathlib.Path('../see-segment/Image_data/Examples/')\n",
    "GTS = imagepath.glob('*_GT*')\n",
    "image_paths = []\n",
    "GT_paths = []\n",
    "for GT_path in GTS:\n",
    "    rootname=GT_path.name[:-7]\n",
    "    imagepath = pathlib.Path('../see-segment/Image_data/Examples')\n",
    "    files = imagepath.glob(f\"*{rootname}*\")\n",
    "    for image in files:\n",
    "        if \"GT\" in image.name:\n",
    "            GT_paths.append(image) \n",
    "        else:\n",
    "            image_paths.append(image)"
   ]
  },
  {
   "cell_type": "code",
   "execution_count": 6,
   "id": "a4d6af4d-fd69-47b7-adf3-96e040e10cc2",
   "metadata": {
    "tags": []
   },
   "outputs": [],
   "source": [
    "import matplotlib.pylab as plt\n",
    "import imageio.v3 as imlib\n",
    "import numpy as np"
   ]
  },
  {
   "cell_type": "code",
   "execution_count": 7,
   "id": "dee2a58e-11c9-4cc5-93b7-487b29cde5d1",
   "metadata": {
    "tags": []
   },
   "outputs": [
    {
     "name": "stdout",
     "output_type": "stream",
     "text": [
      "Checking Bambooplant.jpg (3024, 4032, 3) with it's Bambooplant_GT.jpg (4032, 3024, 3)\n",
      "ERROR Bambooplant.jpg first dimentions do not match GT-4032!=IM-3024\n",
      "ERROR Bambooplant.jpg second dimentions do not match GT-3024!=IM-4032\n",
      "Possible ERROR: Bambooplant.jpg Ground Truth has 256 objects.\n",
      "                Typically images only have less than 5.\n",
      "\n",
      "Checking Street.png (384, 512, 3) with it's Street_GT.png (384, 512)\n",
      "\n",
      "Checking StreetLamp.jpg (1482, 1112, 3) with it's StreetLamp_GT.jpg (1482, 1112, 3)\n",
      "Possible ERROR: StreetLamp.jpg Ground Truth has 35 objects.\n",
      "                Typically images only have less than 5.\n",
      "\n",
      "Checking Headphones.jpeg (1920, 1080, 3) with it's Headphones_GT.png (1920, 1080, 4)\n",
      "Possible ERROR: Headphones.jpeg Ground Truth has 256 objects.\n",
      "                Typically images only have less than 5.\n",
      "\n",
      "Checking Mushrooms.jpeg (2048, 1536, 3) with it's Mushrooms_GT.png (2048, 1536, 3)\n",
      "Possible ERROR: Mushrooms.jpeg Ground Truth has 92 objects.\n",
      "                Typically images only have less than 5.\n",
      "\n",
      "Checking trump.png (613, 460, 4) with it's trump_GT.png (613, 460, 4)\n",
      "Possible ERROR: trump.png Ground Truth has 230 objects.\n",
      "                Typically images only have less than 5.\n",
      "\n",
      "Checking Airpods.JPEG (2048, 1536, 3) with it's Airpods_GT.png (2048, 1536, 4)\n",
      "Possible ERROR: Airpods.JPEG Ground Truth has 250 objects.\n",
      "                Typically images only have less than 5.\n",
      "\n",
      "Checking ants.jpg (1195, 669, 3) with it's ants_GT.png (1210, 677, 3)\n",
      "ERROR ants.jpg first dimentions do not match GT-1210!=IM-1195\n",
      "ERROR ants.jpg second dimentions do not match GT-677!=IM-669\n",
      "Possible ERROR: ants.jpg Ground Truth has 248 objects.\n",
      "                Typically images only have less than 5.\n",
      "\n",
      "Checking bread.jpg (1096, 2436, 3) with it's bread_GT.png (1096, 2436, 4)\n",
      "Possible ERROR: bread.jpg Ground Truth has 227 objects.\n",
      "                Typically images only have less than 5.\n",
      "\n",
      "Checking Books.jpg (3024, 4032, 3) with it's Books_GT.jpg (3024, 4032, 3)\n",
      "Possible ERROR: Books.jpg Ground Truth has 256 objects.\n",
      "                Typically images only have less than 5.\n",
      "\n",
      "Checking Waterbottle.jpg (1280, 960, 3) with it's Waterbottle_GT.jpg (1280, 960)\n",
      "Possible ERROR: Waterbottle.jpg Ground Truth has 256 objects.\n",
      "                Typically images only have less than 5.\n",
      "\n",
      "Checking StreetLamp.jpg (1482, 1112, 3) with it's StreetLamp_GT.jpg (1482, 1112, 3)\n",
      "Possible ERROR: StreetLamp.jpg Ground Truth has 35 objects.\n",
      "                Typically images only have less than 5.\n",
      "\n",
      "Checking SoapFilm.jpg (863, 1000, 3) with it's SoapFilm_GT.jpg (863, 1000, 3)\n",
      "Possible ERROR: SoapFilm.jpg Ground Truth has 216 objects.\n",
      "                Typically images only have less than 5.\n",
      "\n",
      "Checking Cameron.jpg (2208, 1122, 3) with it's Cameron_GT.png (2208, 1122, 3)\n",
      "Possible ERROR: Cameron.jpg Ground Truth has 209 objects.\n",
      "                Typically images only have less than 5.\n",
      "\n",
      "Checking AA_Chameleon.jpg (720, 1280, 3) with it's AA_Chameleon_GT.png (720, 1280)\n",
      "\n",
      "Checking a_walk_in_the_park.jpg (1280, 960, 3) with it's a_walk_in_the_park_GT.jpg (1280, 960, 3)\n",
      "Possible ERROR: a_walk_in_the_park.jpg Ground Truth has 255 objects.\n",
      "                Typically images only have less than 5.\n",
      "\n",
      "Checking mz.jpg (960, 1440, 3) with it's mz_GT.png (960, 1440, 3)\n",
      "Possible ERROR: mz.jpg Ground Truth has 256 objects.\n",
      "                Typically images only have less than 5.\n",
      "\n",
      "Checking Leaves.jpeg (2048, 1536, 3) with it's Leaves_GT.png (2048, 1536, 3)\n",
      "Possible ERROR: Leaves.jpeg Ground Truth has 98 objects.\n",
      "                Typically images only have less than 5.\n",
      "\n",
      "\n",
      " There are 16 errors from a total of 18 images\n"
     ]
    }
   ],
   "source": [
    "errors = 0\n",
    "for image_path, GT_path in zip(image_paths, GT_paths):\n",
    "    im_bad = False;\n",
    "    image = imlib.imread(image_path)\n",
    "    GT = imlib.imread(GT_path)\n",
    "    print(f\"Checking {image_path.name} {image.shape} with it's {GT_path.name} {GT.shape}\")\n",
    "    if not GT.shape[0] == image.shape[0]:\n",
    "        print(f\"ERROR {image_path.name} first dimentions do not match GT-{GT.shape[0]}!=IM-{image.shape[0]}\")\n",
    "        im_bad = True\n",
    "    if not GT.shape[1] == image.shape[1]:\n",
    "        print(f\"ERROR {image_path.name} second dimentions do not match GT-{GT.shape[1]}!=IM-{image.shape[1]}\")\n",
    "        im_bad = True\n",
    "    object_counts = np.unique(GT, return_counts=True)\n",
    "    if len(object_counts[0]) > 5:\n",
    "        print(f\"Possible ERROR: {image_path.name} Ground Truth has {len(np.unique(GT))} objects.\")\n",
    "        print( \"                Typically images only have less than 5.\")\n",
    "        im_bad = True\n",
    "    if(im_bad):\n",
    "        errors += 1\n",
    "    print(\"\")\n",
    "print(\"\")\n",
    "print(f\" There are {errors} errors from a total of {len(GT_paths)} images\")"
   ]
  },
  {
   "cell_type": "code",
   "execution_count": 8,
   "id": "9aa9bf4a-8f98-452e-80c4-113fc36d886a",
   "metadata": {},
   "outputs": [
    {
     "data": {
      "text/plain": [
       "(array([  0,  61,  77,  86, 111, 119, 133, 140, 142, 145, 149, 151, 155,\n",
       "        161, 164, 166, 167, 172, 174, 175, 176, 177, 178, 180, 181, 183,\n",
       "        184, 185, 186, 187, 188, 189, 190, 191, 192, 193, 194, 195, 196,\n",
       "        197, 198, 199, 200, 201, 202, 203, 204, 205, 206, 207, 208, 209,\n",
       "        210, 211, 212, 213, 214, 215, 216, 217, 218, 219, 220, 221, 222,\n",
       "        223, 224, 225, 226, 227, 228, 229, 230, 231, 232, 233, 234, 235,\n",
       "        236, 237, 238, 239, 240, 241, 242, 243, 244, 245, 246, 247, 248,\n",
       "        249, 250, 251, 252, 253, 254, 255], dtype=uint8),\n",
       " array([8024424,       1,       1,       1,       1,       1,       1,\n",
       "              1,       1,       1,       1,       1,       1,       1,\n",
       "              1,       2,       3,       1,       2,       2,       1,\n",
       "              1,       1,       2,       1,       4,       2,       2,\n",
       "              1,       3,       3,       4,       4,       8,       3,\n",
       "              5,       5,       9,       8,       7,       9,      10,\n",
       "             14,       9,      20,      15,      19,      10,      21,\n",
       "             23,      12,      14,      18,      25,      25,      23,\n",
       "             27,      30,      26,      37,      26,      30,      31,\n",
       "             34,      42,      34,      40,      51,      50,      65,\n",
       "             76,      75,      80,     113,     114,     122,     125,\n",
       "            125,     137,     189,     181,     199,     189,     260,\n",
       "            273,     290,     320,     366,     377,     441,     513,\n",
       "            531,     643,     919,    1317,    1895,    3178, 1398824]))"
      ]
     },
     "execution_count": 8,
     "metadata": {},
     "output_type": "execute_result"
    }
   ],
   "source": [
    "object_counts = np.unique(GT, return_counts=True)\n",
    "object_counts"
   ]
  },
  {
   "cell_type": "code",
   "execution_count": null,
   "id": "0436bb47-cf9a-4ce6-a311-8a7adea0c8f7",
   "metadata": {},
   "outputs": [],
   "source": []
  }
 ],
 "metadata": {
  "kernelspec": {
   "display_name": "Python 3 (ipykernel)",
   "language": "python",
   "name": "python3"
  },
  "language_info": {
   "codemirror_mode": {
    "name": "ipython",
    "version": 3
   },
   "file_extension": ".py",
   "mimetype": "text/x-python",
   "name": "python",
   "nbconvert_exporter": "python",
   "pygments_lexer": "ipython3",
   "version": "3.9.15"
  }
 },
 "nbformat": 4,
 "nbformat_minor": 5
}
