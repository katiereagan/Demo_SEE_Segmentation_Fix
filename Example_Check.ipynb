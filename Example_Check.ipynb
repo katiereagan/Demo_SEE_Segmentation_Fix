{
 "cells": [
  {
   "cell_type": "markdown",
   "id": "d80c9853-48f9-4740-acf0-e57ffad4dedc",
   "metadata": {},
   "source": [
    "# Validate the Images and Ground truth images in Examples folder\n",
    "\n",
    "This notebook checks to ensure the image and it's cooresponding Ground Truth have the same number of rows and columns.  It also check the Ground Truthe to see if it has a relitivly small (< 5) labeled objects. It is possible to have more than 5 but that would be a special case. \n",
    "\n",
    "Someone needs to go threw all of the Examples and fix them. "
   ]
  },
  {
   "cell_type": "code",
   "execution_count": null,
   "id": "3a4301ab-0705-42e1-b794-ab647c4eba65",
   "metadata": {
    "tags": []
   },
   "outputs": [],
   "source": [
    "# Modified from code by navya\n",
    "import pathlib\n",
    "imagepath = pathlib.Path('../see-segment/Image_data/Examples/')\n",
    "GTS = imagepath.glob('*_GT*')\n",
    "image_paths = []\n",
    "GT_paths = []\n",
    "for GT_path in GTS:\n",
    "    rootname=GT_path.name[:-7]\n",
    "    imagepath = pathlib.Path('../see-segment/Image_data/Examples')\n",
    "    files = imagepath.glob(f\"*{rootname}*\")\n",
    "    for image in files:\n",
    "        if \"GT\" in image.name:\n",
    "            GT_paths.append(image) \n",
    "        else:\n",
    "            image_paths.append(image)"
   ]
  },
  {
   "cell_type": "code",
   "execution_count": null,
   "id": "a4d6af4d-fd69-47b7-adf3-96e040e10cc2",
   "metadata": {
    "tags": []
   },
   "outputs": [],
   "source": [
    "import matplotlib.pylab as plt\n",
    "import imageio.v3 as imlib\n",
    "import numpy as np"
   ]
  },
  {
   "cell_type": "code",
   "execution_count": null,
   "id": "dee2a58e-11c9-4cc5-93b7-487b29cde5d1",
   "metadata": {
    "tags": []
   },
   "outputs": [],
   "source": [
    "errors = 0\n",
    "for image_path, GT_path in zip(image_paths, GT_paths):\n",
    "    im_bad = False;\n",
    "    image = imlib.imread(image_path)\n",
    "    GT = imlib.imread(GT_path)\n",
    "    print(f\"Checking {image_path.name} {image.shape} with it's {GT_path.name} {GT.shape}\")\n",
    "    if not GT.shape[0] == image.shape[0]:\n",
    "        print(f\"ERROR {image_path.name} first dimentions do not match GT-{GT.shape[0]}!=IM-{image.shape[0]}\")\n",
    "        im_bad = True\n",
    "    if not GT.shape[1] == image.shape[1]:\n",
    "        print(f\"ERROR {image_path.name} second dimentions do not match GT-{GT.shape[1]}!=IM-{image.shape[1]}\")\n",
    "        im_bad = True\n",
    "    object_counts = np.unique(GT, return_counts=True)\n",
    "    if len(object_counts[0]) > 5:\n",
    "        print(f\"Possible ERROR: {image_path.name} Ground Truth has {len(np.unique(GT))} objects.\")\n",
    "        print( \"                Typically images only have less than 5.\")\n",
    "        im_bad = True\n",
    "    if(im_bad):\n",
    "        errors += 1\n",
    "    print(\"\")\n",
    "print(\"\")\n",
    "print(f\" There are {errors} errors from a total of {len(GT_paths)} images\")"
   ]
  },
  {
   "cell_type": "code",
   "execution_count": null,
   "id": "9aa9bf4a-8f98-452e-80c4-113fc36d886a",
   "metadata": {},
   "outputs": [],
   "source": [
    "object_counts = np.unique(GT, return_counts=True)\n",
    "object_counts"
   ]
  },
  {
   "cell_type": "code",
   "execution_count": null,
   "id": "0436bb47-cf9a-4ce6-a311-8a7adea0c8f7",
   "metadata": {},
   "outputs": [],
   "source": []
  }
 ],
 "metadata": {
  "kernelspec": {
   "display_name": "Python 3 (ipykernel)",
   "language": "python",
   "name": "python3"
  },
  "language_info": {
   "codemirror_mode": {
    "name": "ipython",
    "version": 3
   },
   "file_extension": ".py",
   "mimetype": "text/x-python",
   "name": "python",
   "nbconvert_exporter": "python",
   "pygments_lexer": "ipython3",
   "version": "3.9.15"
  }
 },
 "nbformat": 4,
 "nbformat_minor": 5
}
