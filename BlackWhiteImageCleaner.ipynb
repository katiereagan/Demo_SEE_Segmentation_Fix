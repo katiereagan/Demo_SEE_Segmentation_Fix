{
 "cells": [
  {
   "cell_type": "code",
   "execution_count": 6,
   "id": "f66d7c82",
   "metadata": {},
   "outputs": [
    {
     "name": "stdout",
     "output_type": "stream",
     "text": [
      "Enter the pathway to your image: /Users/shadowrainbow/see-segment/Image_data/ExamplesCopy/CleanerImages/Re_Images/a_walk_in_the_park_GT.jpg\n",
      "Enter a new pathway to your updated image: /Users/shadowrainbow/see-segment/Image_data/ExamplesCopy/CleanerImages/Re_Images/a_walk_in_the_park_GT_updatedddddd.jpg\n",
      "Done.\n"
     ]
    }
   ],
   "source": [
    "# For black and white segmented images\n",
    "import numpy as np\n",
    "import cv2\n",
    "from collections import Counter\n",
    "\n",
    "input_image_path = input(\"Enter the pathway to your image: \")\n",
    "mask = cv2.imread(input_image_path)\n",
    "mask =mask[:, :, 0] > 127\n",
    "output_image_path = input(\"Enter a new pathway to your updated image: \")\n",
    "updated_mask = cv2.imwrite(output_image_path, mask.astype(np.uint8) * 255)\n",
    "print(\"Done.\")"
   ]
  },
  {
   "cell_type": "code",
   "execution_count": null,
   "id": "20c03fdb",
   "metadata": {},
   "outputs": [],
   "source": []
  }
 ],
 "metadata": {
  "kernelspec": {
   "display_name": "Python 3 (ipykernel)",
   "language": "python",
   "name": "python3"
  },
  "language_info": {
   "codemirror_mode": {
    "name": "ipython",
    "version": 3
   },
   "file_extension": ".py",
   "mimetype": "text/x-python",
   "name": "python",
   "nbconvert_exporter": "python",
   "pygments_lexer": "ipython3",
   "version": "3.10.9"
  }
 },
 "nbformat": 4,
 "nbformat_minor": 5
}
